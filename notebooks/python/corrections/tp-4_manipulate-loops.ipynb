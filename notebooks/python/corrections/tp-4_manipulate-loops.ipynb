{
  "cells": [
    {
      "cell_type": "markdown",
      "metadata": {
        "id": "KfrKKtw0CAsL"
      },
      "source": [
        "\n",
        "# <font color=\"purple\"> Manipulate loops </font>\n"
      ]
    },
    {
      "cell_type": "markdown",
      "metadata": {
        "id": "T6ESilHlCLiF"
      },
      "source": [
        "## <font color=\"green\"> Basic loops </font>\n",
        "\n",
        "Display all elements of the list `libraries` (one element per line) in three different ways (two with `for` and one with `while`)."
      ]
    },
    {
      "cell_type": "code",
      "execution_count": 1,
      "metadata": {
        "id": "Ve277XBV6Xwc"
      },
      "outputs": [],
      "source": [
        "libraries = [\"numpy\", \"pandas\", \"tensorflow\", \"flask\"]"
      ]
    },
    {
      "cell_type": "code",
      "execution_count": 2,
      "metadata": {
        "id": "JjYbriMKCM3n"
      },
      "outputs": [],
      "source": [
        "# Your code"
      ]
    },
    {
      "cell_type": "markdown",
      "metadata": {
        "id": "I0uHJaVcLEX9"
      },
      "source": [
        "### <font color=\"red\"> Solution </font>"
      ]
    },
    {
      "cell_type": "code",
      "execution_count": null,
      "metadata": {
        "id": "rhwAx5HmLEX-"
      },
      "outputs": [],
      "source": [
        "for library in libraries:\n",
        "    print(library)\n",
        "\n",
        "for i in range(len(libraries)):\n",
        "    print(libraries[i])\n",
        "\n",
        "i = 0\n",
        "while i < len(libraries):\n",
        "    print(libraries[i])\n",
        "    i += 1"
      ]
    },
    {
      "cell_type": "markdown",
      "metadata": {
        "id": "kJoG0SuRCN5U"
      },
      "source": [
        "## <font color=\"green\"> Days of the week (back) </font>\n",
        "\n",
        "\n",
        "Write a series of instructions displaying the weekdays of the week, using a `for` loop, followed by another series of instructions displaying the weekend days, using a `while` loop."
      ]
    },
    {
      "cell_type": "code",
      "execution_count": 3,
      "metadata": {
        "id": "oEj_mrBB6Di2"
      },
      "outputs": [],
      "source": [
        "week = [\n",
        "    \"monday\",\n",
        "    \"tuesday\",\n",
        "    \"wednesday\",\n",
        "    \"thursday\",\n",
        "    \"friday\",\n",
        "    \"saturday\",\n",
        "    \"sunday\",\n",
        "]"
      ]
    },
    {
      "cell_type": "code",
      "execution_count": null,
      "metadata": {
        "id": "QV0sYYxdCTHZ"
      },
      "outputs": [],
      "source": [
        "# Your code"
      ]
    },
    {
      "cell_type": "markdown",
      "metadata": {
        "id": "u8_BWoPxLAJ1"
      },
      "source": [
        "### <font color=\"green\"> Solution </font>"
      ]
    },
    {
      "cell_type": "code",
      "execution_count": 4,
      "metadata": {
        "id": "jupvOQ3dLBzr"
      },
      "outputs": [
        {
          "name": "stdout",
          "output_type": "stream",
          "text": [
            "monday\n",
            "tuesday\n",
            "wednesday\n",
            "thursday\n",
            "friday\n",
            "saturday\n",
            "sunday\n"
          ]
        }
      ],
      "source": [
        "for day in week[:5]:\n",
        "  print(day)\n",
        "\n",
        "i = 5\n",
        "while i < 7:\n",
        "  print(week[i])\n",
        "  i += 1"
      ]
    },
    {
      "cell_type": "markdown",
      "metadata": {
        "id": "eZeRj_HGCh6g"
      },
      "source": [
        "## <font color=\"green\"> Even and odd numbers </font>\n",
        "\n",
        "Construct the list `even_numbers` of even numbers from the list odd_numbers: for this, you can iterate over `odd_numbers` and add 1 to each element before adding it to `even_numbers`."
      ]
    },
    {
      "cell_type": "code",
      "execution_count": 5,
      "metadata": {
        "id": "CRNiFtmy57nk"
      },
      "outputs": [],
      "source": [
        "odd_numbers = [1, 3, 5, 7, 9, 11, 13, 15, 17, 19, 21]"
      ]
    },
    {
      "cell_type": "code",
      "execution_count": null,
      "metadata": {
        "id": "bA36AeMICism"
      },
      "outputs": [],
      "source": [
        "# Your code"
      ]
    },
    {
      "cell_type": "markdown",
      "metadata": {
        "id": "1ibTFsmdM-Zn"
      },
      "source": [
        "### <font color=\"red\"> Solution </font>"
      ]
    },
    {
      "cell_type": "code",
      "execution_count": 7,
      "metadata": {
        "id": "LX4AdPL4M_XH"
      },
      "outputs": [
        {
          "name": "stdout",
          "output_type": "stream",
          "text": [
            "[2, 4, 6, 8, 10, 12, 14, 16, 18, 20, 22]\n"
          ]
        }
      ],
      "source": [
        "even_numbers = []\n",
        "for nb in odd_numbers:\n",
        "    even_numbers.append(nb + 1)\n",
        "\n",
        "print(even_numbers)"
      ]
    },
    {
      "cell_type": "markdown",
      "metadata": {},
      "source": [
        "OR"
      ]
    },
    {
      "cell_type": "code",
      "execution_count": 13,
      "metadata": {},
      "outputs": [
        {
          "name": "stdout",
          "output_type": "stream",
          "text": [
            "[2, 4, 6, 8, 10, 12, 14, 16, 18, 20, 22]\n"
          ]
        }
      ],
      "source": [
        "# Probably the most \"pythonic\" solution:\n",
        "even_numbers = [nb + 1 for nb in odd_numbers]\n",
        "\n",
        "print(even_numbers)"
      ]
    },
    {
      "cell_type": "markdown",
      "metadata": {},
      "source": [
        "OR"
      ]
    },
    {
      "cell_type": "code",
      "execution_count": 12,
      "metadata": {},
      "outputs": [
        {
          "data": {
            "text/plain": [
              "[2, 4, 6, 8, 10, 12, 14, 16, 18, 20, 22]"
            ]
          },
          "execution_count": 12,
          "metadata": {},
          "output_type": "execute_result"
        }
      ],
      "source": [
        "even_numbers = list(map(lambda x: x + 1, odd_numbers))\n",
        "\n",
        "print(even_numbers)"
      ]
    },
    {
      "cell_type": "markdown",
      "metadata": {
        "id": "-L_ReF8KCnPH"
      },
      "source": [
        "## Calcul de la moyenne\n",
        "\n",
        "\"The grades of a student are contained in the list `grades`. Calculate the average. Display the average value with two decimal places.\""
      ]
    },
    {
      "cell_type": "code",
      "execution_count": 19,
      "metadata": {
        "id": "OuZ1ZpNi5q0R"
      },
      "outputs": [],
      "source": [
        "grades = [70, 45, 30, 40, 60]"
      ]
    },
    {
      "cell_type": "code",
      "execution_count": null,
      "metadata": {
        "id": "wCicBNyFCnxd"
      },
      "outputs": [],
      "source": [
        "# Your code"
      ]
    },
    {
      "cell_type": "markdown",
      "metadata": {
        "id": "FxjzIiziNOL5"
      },
      "source": [
        "### <font color=\"red\"> Solution </font>"
      ]
    },
    {
      "cell_type": "code",
      "execution_count": 25,
      "metadata": {
        "id": "rR7S5K6CNPT_"
      },
      "outputs": [
        {
          "name": "stdout",
          "output_type": "stream",
          "text": [
            "49.00\n"
          ]
        }
      ],
      "source": [
        "# if we forbid the use of sum:\n",
        "total = 0\n",
        "for grade in grades:\n",
        "    total += grade  # or: total = total + grade\n",
        "print(\"{:.2f}\".format(total / len(grades)))"
      ]
    },
    {
      "cell_type": "code",
      "execution_count": 24,
      "metadata": {},
      "outputs": [
        {
          "name": "stdout",
          "output_type": "stream",
          "text": [
            "49.00\n"
          ]
        }
      ],
      "source": [
        "# if we don't:\n",
        "print(f\"{sum(grades) / len(grades):.2f}\")"
      ]
    },
    {
      "cell_type": "markdown",
      "metadata": {
        "id": "WNaMDchHCuoL"
      },
      "source": [
        "## <font color=\"green\"> Product of consecutive even integers </font>\n",
        "\n",
        "Using the functions [`list`](https://docs.python.org/fr/3/library/functions.html#list) and [`range`](https://docs.python.org/fr/3/library/functions.html#range), create the list `a` containing the even integers from 2 to 20 inclusive.\n",
        "\n",
        "Then, calculate the product of consecutive numbers from `a` two by two from using a loop and print them line by line.\n",
        "\n",
        "Example for the first iterations:\n",
        "```\n",
        "8\n",
        "24\n",
        "48\n",
        "[...]\n",
        "```"
      ]
    },
    {
      "cell_type": "code",
      "execution_count": null,
      "metadata": {
        "id": "SVD8NuDoCvZm"
      },
      "outputs": [],
      "source": [
        "# Your code"
      ]
    },
    {
      "cell_type": "markdown",
      "metadata": {
        "id": "FQIm7KlIOCwF"
      },
      "source": [
        "### <font color=\"red\"> Solution </font>"
      ]
    },
    {
      "cell_type": "code",
      "execution_count": 26,
      "metadata": {},
      "outputs": [],
      "source": [
        "a = list(range(2, 21, 2))"
      ]
    },
    {
      "cell_type": "code",
      "execution_count": 27,
      "metadata": {},
      "outputs": [
        {
          "name": "stdout",
          "output_type": "stream",
          "text": [
            "8\n",
            "24\n",
            "48\n",
            "80\n",
            "120\n",
            "168\n",
            "224\n",
            "288\n",
            "360\n"
          ]
        }
      ],
      "source": [
        "for i in range(len(a) - 1):\n",
        "    print(a[i] * a[i + 1])"
      ]
    },
    {
      "cell_type": "markdown",
      "metadata": {},
      "source": [
        "OR"
      ]
    },
    {
      "cell_type": "code",
      "execution_count": 28,
      "metadata": {
        "id": "oxN_3knkOEFZ"
      },
      "outputs": [
        {
          "name": "stdout",
          "output_type": "stream",
          "text": [
            "8\n",
            "24\n",
            "48\n",
            "80\n",
            "120\n",
            "168\n",
            "224\n",
            "288\n",
            "360\n"
          ]
        }
      ],
      "source": [
        "for i in range(1, len(a)):\n",
        "    print(a[i - 1] * a[i])"
      ]
    },
    {
      "cell_type": "markdown",
      "metadata": {},
      "source": [
        "OR"
      ]
    },
    {
      "cell_type": "code",
      "execution_count": 29,
      "metadata": {},
      "outputs": [
        {
          "name": "stdout",
          "output_type": "stream",
          "text": [
            "8\n",
            "24\n",
            "48\n",
            "80\n",
            "120\n",
            "168\n",
            "224\n",
            "288\n",
            "360\n"
          ]
        }
      ],
      "source": [
        "for current, next in zip(a, a[1:]):\n",
        "    print(current * next)"
      ]
    },
    {
      "cell_type": "markdown",
      "metadata": {
        "id": "3IUmpHDTC3_G"
      },
      "source": [
        "## <font color=\"green\"> Triangle </font>\n",
        "\n",
        "Write code to draw a triangle like this one:\n",
        "```\n",
        "*\n",
        "**\n",
        "***\n",
        "****\n",
        "*****\n",
        "******\n",
        "*******\n",
        "********\n",
        "*********\n",
        "**********\n",
        "```"
      ]
    },
    {
      "cell_type": "code",
      "execution_count": null,
      "metadata": {
        "id": "nE5lw41zC5Ge"
      },
      "outputs": [],
      "source": [
        "# Your code"
      ]
    },
    {
      "cell_type": "markdown",
      "metadata": {
        "id": "UfhTGcLhFgLw"
      },
      "source": [
        "### <font color=\"red\"> Solution </font>"
      ]
    },
    {
      "cell_type": "code",
      "execution_count": 30,
      "metadata": {
        "id": "KcU_ftK1FhQm"
      },
      "outputs": [
        {
          "name": "stdout",
          "output_type": "stream",
          "text": [
            "*\n",
            "**\n",
            "***\n",
            "****\n",
            "*****\n",
            "******\n",
            "*******\n",
            "********\n",
            "*********\n",
            "**********\n"
          ]
        }
      ],
      "source": [
        "for i in range(1, 11):\n",
        "    print(\"*\" * i)"
      ]
    },
    {
      "cell_type": "markdown",
      "metadata": {
        "id": "f7rBdCRIDBJq"
      },
      "source": [
        "## Upside-down triangle\n",
        "\n",
        "Write code to draw a triangle like this one:\n",
        "```\n",
        "**********\n",
        "*********\n",
        "********\n",
        "*******\n",
        "******\n",
        "*****\n",
        "****\n",
        "***\n",
        "**\n",
        "*\n",
        "```"
      ]
    },
    {
      "cell_type": "code",
      "execution_count": 31,
      "metadata": {
        "id": "TLHd5U_SDCna"
      },
      "outputs": [],
      "source": [
        "# Your code"
      ]
    },
    {
      "cell_type": "markdown",
      "metadata": {
        "id": "g6Fety22OtCv"
      },
      "source": [
        "### <font color=\"red\"> Solution </font>"
      ]
    },
    {
      "cell_type": "code",
      "execution_count": 32,
      "metadata": {
        "id": "-M7sbTCEOuBK"
      },
      "outputs": [
        {
          "name": "stdout",
          "output_type": "stream",
          "text": [
            "**********\n",
            "*********\n",
            "********\n",
            "*******\n",
            "******\n",
            "*****\n",
            "****\n",
            "***\n",
            "**\n",
            "*\n"
          ]
        }
      ],
      "source": [
        "for i in range(10, 0, -1):\n",
        "    print(\"*\" * i)"
      ]
    },
    {
      "cell_type": "markdown",
      "metadata": {
        "id": "1nwk63yZE33g"
      },
      "source": [
        "## <font color=\"green\"> Flea jumps </font>\n",
        "\n",
        "Let's consider a flea that moves randomly on a graduated line, forward or backward, by steps of 1 or -1. For example, if it is at location 0, it can jump to location 1 or -1; if it is at location 2, it can jump to location 3 or 1, and so on.\n",
        "\n",
        "Using a while loop, simulate the movement of a flea starting from the initial location 0 and stopping as soon as it reaches location 5. Plan to count the number of jumps made during the journey.\n",
        "\n",
        "Tip: You can use the random.choice([-1, 1]) statement, which randomly returns the values -1 or 1 with the same probability. Before using this statement, you need to import the random library as follows:\n",
        "```python\n",
        "import random\n",
        "```"
      ]
    },
    {
      "cell_type": "code",
      "execution_count": 34,
      "metadata": {
        "id": "zETPpRo9E79_"
      },
      "outputs": [],
      "source": [
        "# Your code"
      ]
    },
    {
      "cell_type": "markdown",
      "metadata": {
        "id": "htKqRYjyeq_u"
      },
      "source": [
        "### <font color=\"red\"> Solution </font>"
      ]
    },
    {
      "cell_type": "code",
      "execution_count": 43,
      "metadata": {
        "id": "u-62u2qCesD-"
      },
      "outputs": [
        {
          "name": "stdout",
          "output_type": "stream",
          "text": [
            "149\n"
          ]
        }
      ],
      "source": [
        "import random\n",
        "\n",
        "n_jumps = 0\n",
        "position = 0\n",
        "while position < 5:\n",
        "    position += random.choice([-1, 1])\n",
        "    n_jumps += 1\n",
        "print(n_jumps)"
      ]
    },
    {
      "cell_type": "markdown",
      "metadata": {
        "id": "Ka5R8JlWFFO0"
      },
      "source": [
        "## <font color=\"green\"> Fibonacci sequence </font>\n",
        "\n",
        "The [Fibonacci sequence](https://en.wikipedia.org/wiki/Fibonacci_sequence) is a mathematical sequence named after Leonardo Fibonacci, an Italian mathematician from the 13th century. Initially, this sequence was designed to describe the growth of a population of rabbits, but it can also be used to describe certain geometric patterns found in nature (shells, sunflower seeds, etc.).\n",
        "\n",
        "The Fibonacci sequence $(F_n)$ is defined by $x_0 = 0$, $x_1 = 1$, and for all $n > 1$, $F_n = F_{n − 1} + F_{n − 2}$ (meaning each term is the sum of the two preceding terms).\n",
        "\n",
        "For example, the first 10 terms of the Fibonacci sequence are 0, 1, 1, 2, 3, 5, 8, 13, 21, and 34.\n",
        "\n",
        "Create a script that calculates a list `fibo` with the first 20 terms of the Fibonacci sequence and then displays it.\n",
        "\n",
        "Improve this script by displaying, for each element of the list `fibo` with $n > 1$, the ratio between the element of rank $n$ and the element of rank $n − 1$."
      ]
    },
    {
      "cell_type": "code",
      "execution_count": 44,
      "metadata": {
        "id": "WdoAuq5RFIdI"
      },
      "outputs": [],
      "source": [
        "# Your code"
      ]
    },
    {
      "cell_type": "markdown",
      "metadata": {
        "id": "zyCiCKSzfu4P"
      },
      "source": [
        "### Solution"
      ]
    },
    {
      "cell_type": "code",
      "execution_count": 46,
      "metadata": {
        "id": "FNYvo48lfwcV"
      },
      "outputs": [
        {
          "name": "stdout",
          "output_type": "stream",
          "text": [
            "[0, 1, 1, 2, 3, 5, 8, 13, 21, 34, 55, 89, 144, 233, 377, 610, 987, 1597, 2584, 4181]\n",
            "1.0\n",
            "2.0\n",
            "1.5\n",
            "1.6666666666666667\n",
            "1.6\n",
            "1.625\n",
            "1.6153846153846154\n",
            "1.619047619047619\n",
            "1.6176470588235294\n",
            "1.6181818181818182\n",
            "1.6179775280898876\n",
            "1.6180555555555556\n",
            "1.6180257510729614\n",
            "1.6180371352785146\n",
            "1.618032786885246\n",
            "1.618034447821682\n",
            "1.6180338134001253\n",
            "1.618034055727554\n"
          ]
        }
      ],
      "source": [
        "n = 20\n",
        "fibo = [0, 1]\n",
        "\n",
        "while len(fibo) < n:\n",
        "    fibo.append(fibo[-1] + fibo[-2])\n",
        "print(fibo)\n",
        "\n",
        "for i in range(2, n):\n",
        "    print(fibo[i] / fibo[i - 1])"
      ]
    },
    {
      "cell_type": "markdown",
      "metadata": {
        "id": "Ujfb-tjxdJZ_"
      },
      "source": [
        "For your information, the ratio $\\frac{\\text{F}_n}{\\text{F}_{n - 1}}$ converges to the [golden ratio](https://en.wikipedia.org/wiki/Golden_ratio)."
      ]
    },
    {
      "cell_type": "markdown",
      "metadata": {},
      "source": []
    }
  ],
  "metadata": {
    "colab": {
      "collapsed_sections": [
        "I0uHJaVcLEX9",
        "u8_BWoPxLAJ1",
        "LlN9o1_gMqX_",
        "1ibTFsmdM-Zn",
        "FxjzIiziNOL5",
        "FQIm7KlIOCwF",
        "UfhTGcLhFgLw",
        "g6Fety22OtCv",
        "oaAqCpnZO-VY",
        "UmmC4BKPXgfq",
        "csoKNZSpYQko",
        "zb9W_RY5cmbw",
        "htKqRYjyeq_u",
        "zyCiCKSzfu4P"
      ],
      "private_outputs": true,
      "provenance": [],
      "toc_visible": true
    },
    "kernelspec": {
      "display_name": "Python 3",
      "name": "python3"
    },
    "language_info": {
      "codemirror_mode": {
        "name": "ipython",
        "version": 3
      },
      "file_extension": ".py",
      "mimetype": "text/x-python",
      "name": "python",
      "nbconvert_exporter": "python",
      "pygments_lexer": "ipython3",
      "version": "3.11.4"
    }
  },
  "nbformat": 4,
  "nbformat_minor": 0
}
